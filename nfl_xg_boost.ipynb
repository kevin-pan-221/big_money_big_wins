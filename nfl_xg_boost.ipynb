{
 "cells": [
  {
   "cell_type": "code",
   "execution_count": 11,
   "id": "a60389d1-787b-4e7c-bbc6-81d647a21de3",
   "metadata": {},
   "outputs": [
    {
     "name": "stdout",
     "output_type": "stream",
     "text": [
      "Training MSE: 0.0000\n",
      "Test MSE: 14.7730\n",
      "Training R^2: 1.0000\n",
      "Test R^2: -0.1793\n",
      "Model and scaler saved successfully in the 'models' folder!\n"
     ]
    }
   ],
   "source": [
    "import pandas as pd\n",
    "import numpy as np\n",
    "from sklearn.model_selection import train_test_split\n",
    "from sklearn.preprocessing import StandardScaler\n",
    "from sklearn.metrics import mean_squared_error, r2_score\n",
    "from xgboost import XGBRegressor\n",
    "import joblib\n",
    "import os\n",
    "\n",
    "# Step 1: Load Dataset\n",
    "path = \"/Users/kevinpan/Downloads/NFL Salary By Position Group.xlsx - Sheet1.csv\"  # Update this with the path to your dataset\n",
    "data = pd.read_csv(path)\n",
    "\n",
    "# Step 2: Feature and Target Selection\n",
    "features = [\"QB_P\", \"RB_P\", \"WR_P\", \"TE_P\", \"OL_P\", \"IDL_P\", \"EDGE_P\", \"LB_P\", \"S_P\", \"CB_P\"]\n",
    "target = \"W\"  # Wins\n",
    "\n",
    "X = data[features].values\n",
    "y = data[target].values\n",
    "\n",
    "# Step 3: Train-Test Split\n",
    "X_train, X_test, y_train, y_test = train_test_split(X, y, test_size=0.2, random_state=42)\n",
    "\n",
    "# Step 4: Data Scaling\n",
    "scaler = StandardScaler()\n",
    "X_train = scaler.fit_transform(X_train)\n",
    "X_test = scaler.transform(X_test)\n",
    "\n",
    "# Step 5: Train XGBoost Model\n",
    "xgb_model = XGBRegressor(\n",
    "    n_estimators=200,          # Number of boosting rounds\n",
    "    max_depth=10,              # Maximum tree depth\n",
    "    learning_rate=0.1,         # Step size shrinkage\n",
    "    subsample=0.8,             # Fraction of samples for training each tree\n",
    "    colsample_bytree=0.8,      # Fraction of features for training each tree\n",
    "    random_state=42\n",
    ")\n",
    "\n",
    "xgb_model.fit(X_train, y_train)\n",
    "\n",
    "# Step 6: Make Predictions\n",
    "y_train_pred = xgb_model.predict(X_train)\n",
    "y_test_pred = xgb_model.predict(X_test)\n",
    "\n",
    "# Step 7: Evaluate the Model\n",
    "train_mse = mean_squared_error(y_train, y_train_pred)\n",
    "test_mse = mean_squared_error(y_test, y_test_pred)\n",
    "train_r2 = r2_score(y_train, y_train_pred)\n",
    "test_r2 = r2_score(y_test, y_test_pred)\n",
    "\n",
    "print(f\"Training MSE: {train_mse:.4f}\")\n",
    "print(f\"Test MSE: {test_mse:.4f}\")\n",
    "print(f\"Training R^2: {train_r2:.4f}\")\n",
    "print(f\"Test R^2: {test_r2:.4f}\")\n",
    "\n",
    "# Step 8: Save Model and Scaler\n",
    "os.makedirs(\"models\", exist_ok=True)  # Create directory if not exists\n",
    "joblib.dump(xgb_model, \"models/xgb_model.pkl\")  # Save XGBoost model\n",
    "joblib.dump(scaler, \"models/scaler.pkl\")  # Save scaler\n",
    "\n",
    "print(\"Model and scaler saved successfully in the 'models' folder!\")\n"
   ]
  },
  {
   "cell_type": "code",
   "execution_count": 7,
   "id": "f54c47c2-aeac-4fb3-b8a1-faffa13774cf",
   "metadata": {},
   "outputs": [],
   "source": [
    "import sys\n",
    "sys.path.insert(0, \"/Users/kevinpan/Desktop/brown-coursework/big_money_big_wins/.venv/lib/python3.13/site-packages\")\n"
   ]
  },
  {
   "cell_type": "code",
   "execution_count": 2,
   "id": "678c4359-105a-4170-b468-5051c87d9f21",
   "metadata": {},
   "outputs": [
    {
     "name": "stdout",
     "output_type": "stream",
     "text": [
      "/Users/kevinpan/Desktop/brown-coursework/big_money_big_wins/.venv/bin/python\n"
     ]
    }
   ],
   "source": [
    "!which python\n"
   ]
  },
  {
   "cell_type": "code",
   "execution_count": 3,
   "id": "fe64a9e4-4f0b-458c-99ae-017e3a33b431",
   "metadata": {},
   "outputs": [
    {
     "ename": "ModuleNotFoundError",
     "evalue": "No module named 'xgboost'",
     "output_type": "error",
     "traceback": [
      "\u001b[0;31m---------------------------------------------------------------------------\u001b[0m",
      "\u001b[0;31mModuleNotFoundError\u001b[0m                       Traceback (most recent call last)",
      "Cell \u001b[0;32mIn[3], line 1\u001b[0m\n\u001b[0;32m----> 1\u001b[0m \u001b[38;5;28;01mimport\u001b[39;00m \u001b[38;5;21;01mxgboost\u001b[39;00m\n\u001b[1;32m      2\u001b[0m \u001b[38;5;28mprint\u001b[39m(xgboost\u001b[38;5;241m.\u001b[39m__version__)\n",
      "\u001b[0;31mModuleNotFoundError\u001b[0m: No module named 'xgboost'"
     ]
    }
   ],
   "source": [
    "import xgboost\n",
    "print(xgboost.__version__)\n"
   ]
  },
  {
   "cell_type": "code",
   "execution_count": 4,
   "id": "09711a82-917a-4caa-9de0-7d9587f56e8c",
   "metadata": {},
   "outputs": [
    {
     "name": "stdout",
     "output_type": "stream",
     "text": [
      "Requirement already satisfied: xgboost in ./.venv/lib/python3.13/site-packages (2.1.3)\n",
      "Requirement already satisfied: numpy in ./.venv/lib/python3.13/site-packages (from xgboost) (2.1.3)\n",
      "Requirement already satisfied: scipy in ./.venv/lib/python3.13/site-packages (from xgboost) (1.14.1)\n",
      "\n",
      "\u001b[1m[\u001b[0m\u001b[34;49mnotice\u001b[0m\u001b[1;39;49m]\u001b[0m\u001b[39;49m A new release of pip is available: \u001b[0m\u001b[31;49m24.2\u001b[0m\u001b[39;49m -> \u001b[0m\u001b[32;49m24.3.1\u001b[0m\n",
      "\u001b[1m[\u001b[0m\u001b[34;49mnotice\u001b[0m\u001b[1;39;49m]\u001b[0m\u001b[39;49m To update, run: \u001b[0m\u001b[32;49mpip install --upgrade pip\u001b[0m\n"
     ]
    }
   ],
   "source": [
    "!pip install xgboost\n"
   ]
  },
  {
   "cell_type": "code",
   "execution_count": 6,
   "id": "a24b0540-1cd8-4ba6-9afd-768fad01dcd5",
   "metadata": {},
   "outputs": [
    {
     "name": "stdout",
     "output_type": "stream",
     "text": [
      "['/opt/homebrew/Cellar/python@3.11/3.11.4_1/Frameworks/Python.framework/Versions/3.11/lib/python311.zip', '/opt/homebrew/Cellar/python@3.11/3.11.4_1/Frameworks/Python.framework/Versions/3.11/lib/python3.11', '/opt/homebrew/Cellar/python@3.11/3.11.4_1/Frameworks/Python.framework/Versions/3.11/lib/python3.11/lib-dynload', '', '/opt/homebrew/lib/python3.11/site-packages']\n"
     ]
    }
   ],
   "source": [
    "import sys\n",
    "print(sys.path)\n"
   ]
  },
  {
   "cell_type": "code",
   "execution_count": null,
   "id": "55a46e04-edb5-4fe8-a4cf-0955e9035112",
   "metadata": {},
   "outputs": [],
   "source": []
  }
 ],
 "metadata": {
  "kernelspec": {
   "display_name": "Python 3 (ipykernel)",
   "language": "python",
   "name": "python3"
  },
  "language_info": {
   "codemirror_mode": {
    "name": "ipython",
    "version": 3
   },
   "file_extension": ".py",
   "mimetype": "text/x-python",
   "name": "python",
   "nbconvert_exporter": "python",
   "pygments_lexer": "ipython3",
   "version": "3.11.4"
  }
 },
 "nbformat": 4,
 "nbformat_minor": 5
}
